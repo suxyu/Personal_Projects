{
 "cells": [
  {
   "cell_type": "markdown",
   "id": "85398b33-3b67-4699-bf4f-99fb4dbef6b1",
   "metadata": {},
   "source": [
    "# <span style=\"color:#0b486b\">FIT3181 S2 2023 - ASSIGNMENT 1</span>\n",
    "\n",
    "<font size=\"+1\">Due: <span style=\"color:red\">[11:59pm, 08 September 2023]</span>  (Friday)</font>\n",
    "\n",
    "<font size=\"+1\">**Important note:**</font> This is an **individual** assignment. It contributes **25%** to your final mark. Read the assignment instruction carefully."
   ]
  },
  {
   "cell_type": "markdown",
   "id": "a6046830-b520-4f6f-a08e-bba5ede331fe",
   "metadata": {},
   "source": [
    "# <span style=\"color:#0b486b\">  Student Information</span>\n",
    "***\n",
    "Surname: **[Sun]**  <br/>\n",
    "Firstname: **[Xiaoyu ]**    <br/>\n",
    "Student ID: **[32950683 ]**    <br/>\n",
    "Email: **[xsun0054@student.monash.edu ]**    <br/>\n",
    "Your tutorial time: **[Fri 2-4pm ]**    <br/>\n",
    "***"
   ]
  },
  {
   "cell_type": "markdown",
   "id": "cce83d4f-48ef-426a-80dd-a03a3aa4ac06",
   "metadata": {},
   "source": [
    "## <span style=\"color:#0b486b\">Instruction</span>\n",
    "\n",
    "This notebook has been prepared for your to complete Assignment 1. The theme of this assignment is about practical machine learning knowledge and skills in deep neural networks, including feedforward and convolutional neural networks. Some sections have been partially completed to help you get\n",
    "started. **The total marks for this notebook is 100**.\n",
    "\n",
    "* Before you start, read the entire notebook carefully once to understand what you need to do. <br/>\n",
    "\n",
    "* For each cell marked with **#YOU ARE REQUIRED TO INSERT YOUR CODES IN THIS CELL** or **INSERT YOUR CODES IN THIS CELL**, there will be places where you **must** supply your own codes when instructed. <br>\n",
    "\n",
    "This assignment contains **three** parts:\n",
    "\n",
    "* Part 1: Questions on theory and knowledge on machine learning and deep learning **[30 points]**\n",
    "* Part 2: Coding assessment on TensorFlow for Deep Neural Networks (DNN) **[30 points]**\n",
    "* Part 3: Coding assessment on TensorFlow for Convolution Neural Networks (CNN) **[40 points]**\n",
    "\n",
    "**Hint**: This assignment was essentially designed based on the lectures and tutorials sessions covered from Week 1 to Week 5. You are strongly recommended to go through these contents thoroughly which might help you to complete this assignment."
   ]
  },
  {
   "cell_type": "markdown",
   "id": "cc31af24-7213-49f5-99b9-669c185735cc",
   "metadata": {},
   "source": [
    "## <span style=\"color:#0b486b\">What to submit</span>\n",
    "\n",
    "This assignment is to be completed individually and submitted to Moodle unit site. **By the due date, you are required to submit one  <span style=\"color:red; font-weight:bold\">single zip file, named xxx_assignment01_solution.zip</span> where `xxx` is your student ID, to the corresponding Assignment (Dropbox) in Moodle**. \n",
    "\n",
    "***For example, if your student ID is <span style=\"color:red; font-weight:bold\">12356</span>, then gather all of your assignment solution to folder, create a zip file named <span style=\"color:red; font-weight:bold\">123456_assignment01_solution.zip</span> and submit this file.***\n",
    "\n",
    "Within this zip folder, you **must** submit the following files:\n",
    "\n",
    "1. **A1_Part1_Solutions.ipynb, A1_Part2_Solutions.ipynb, A1_Part3_Solutions.ipynb**: these are your Python notebook solution source files.\n",
    "2. **A1_Part1_Solutions.html, A1_Part2_Solutions.html, A1_Part3_Solutions.html**: these are the output of your Python notebook solution *exported* in HTML format.\n",
    "3. Any **extra files or folder** needed to complete your assignment (e.g., images used in your answers).\n",
    "\n",
    "**You can run your codes on Google Colab. In this case, you need to capture the screenshots of your Google Colab model training and put in corresponding places in your Jupyter notebooks. You also need to store your trained models to folder <span style=\"color:red; font-weight:bold\">*./models*</span> with recognizable file names (e.g., Part3_Sec3_2_model.h5).**"
   ]
  },
  {
   "cell_type": "markdown",
   "id": "97f83e10-3989-4235-a3ef-4cce62a57e39",
   "metadata": {},
   "source": [
    "## <span style=\"color:#0b486b\">Part 1: Theory and Knowledge Questions</span>\n",
    "<div style=\"text-align: right\"><span style=\"color:red\">[Total marks for this part: 30 points]</span></div>"
   ]
  },
  {
   "cell_type": "markdown",
   "id": "61388bef-2a30-4ecb-ae19-2713b7507936",
   "metadata": {},
   "source": [
    "The first part of this assignment is for you to demonstrate your knowledge in deep learning that you have acquired from the lectures and tutorials materials. Most of the contents in this assignment are drawn from **the lectures and labs from weeks 1 to 2**. Going through these materials before attempting this part is highly recommended.\n",
    "\n",
    "**Numpy** is possibly being used in the following questions. You need to import it here."
   ]
  },
  {
   "cell_type": "code",
   "execution_count": 1,
   "id": "65effb9f-5798-43ae-82f6-71700b5e4728",
   "metadata": {
    "tags": []
   },
   "outputs": [],
   "source": [
    "import numpy as np"
   ]
  },
  {
   "cell_type": "markdown",
   "id": "3f3947be-76c2-48ae-9d0d-d44a0565e6dc",
   "metadata": {
    "tags": []
   },
   "source": [
    "### <span style=\"color:#0b486b\">Question 1.1: Activation Functions</span>\n",
    "Activation function plays an important role in modern Deep NNs. In this question, we will explore some of them to get deeper understanding of their characteristics and their advantages.\n",
    "\n",
    "**(a)** Given the Exponential Linear Unit activation function: $$\\text{ELU}\\left(x\\right)=\\begin{cases}\\alpha\\,(e^x-1) & \\text{if}\\,x<0\\ (\\alpha\\ \\text{is a hyper-parameter})\\\\x & \\text{otherwise}\\end{cases}$$\n",
    "\n",
    "State its output range, find its derivative (show your steps), and plot the activation fuction and its derivative.\n",
    "<div style=\"text-align: right\"><span style=\"color:red\">[2 points]</span></div>\n",
    "\n",
    "**(b)** In literature, there are a wide range of activation functions that have been proposed. Do a research and select two (2) activation functions that were not discussed in the lecture (including `ReLU`, `sigmoid`, and `tanh`). For each of the selected activation function, do the following:\n",
    "\n",
    "- Find the research paper which propose the activation function.\n",
    "- Write a brief summary of the author's motivation which leads to the activation function (max 150 words).\n",
    "- Write a brief summary of advantages of the activation function (max 150 words).\n",
    "\n",
    "<div style=\"text-align: right\"><span style=\"color:red\">[6 points]</span></div>"
   ]
  },
  {
   "cell_type": "markdown",
   "id": "97a4feda-310c-4149-a82c-2c8f99260b5d",
   "metadata": {},
   "source": [
    "*# WRITE YOUR ANSWER HERE*\n",
    "(a)\n",
    "the output range is (-1, +inf)\n",
    "\n",
    "𝛼>0, 0>𝛼(e^x -1)>-1,when x <0\n",
    "when x>=0,elu(x)>=0\n",
    "so the output range is (-1, +inf)\n",
    "\n",
    "\n"
   ]
  },
  {
   "cell_type": "code",
   "execution_count": 6,
   "id": "90509d34-bcfe-40df-ba2d-d76f521faf0d",
   "metadata": {},
   "outputs": [
    {
     "data": {
      "image/png": "[encoded data removed]",
      "text/plain": [
       "<Figure size 640x480 with 1 Axes>"
      ]
     },
     "metadata": {},
     "output_type": "display_data"
    }
   ],
   "source": [
    "from matplotlib import pyplot as plt\n",
    "import numpy as np\n",
    "\n",
    "def tanh_forward(x):\n",
    "    alpha = 1\n",
    "    return (x >= 0.0) * x + (x < 0.0) * (np.exp(x) - 1.0)*alpha\n",
    "\n",
    "\n",
    "x = np.arange(-7,7)\n",
    "y = tanh_forward(x)\n",
    "\n",
    "plt.style.use('fivethirtyeight')\n",
    "fig, ax = plt.subplots()\n",
    "ax.plot(x, y)\n",
    "ax.set_title(\"Plot of the ELU\")\n",
    "plt.show()"
   ]
  },
  {
   "cell_type": "markdown",
   "id": "cc6a7627-9c42-47cb-a0d5-b32e0e66a747",
   "metadata": {},
   "source": [
    "the plot of elu is above"
   ]
  },
  {
   "cell_type": "code",
   "execution_count": 7,
   "id": "9c3ef381-fcb6-4bee-adc4-c7cd631e366e",
   "metadata": {},
   "outputs": [
    {
     "data": {
      "image/png": "[encoded data removed]",
      "text/plain": [
       "<Figure size 640x480 with 1 Axes>"
      ]
     },
     "metadata": {},
     "output_type": "display_data"
    }
   ],
   "source": [
    "from matplotlib import pyplot as plt\n",
    "import numpy as np\n",
    "\n",
    "def tanh_forward_derivative(x):\n",
    "    alpha = 1\n",
    "    return (x >= 0.0) * 1 + (x < 0.0) * (np.exp(x) )*alpha\n",
    "\n",
    "\n",
    "x = np.arange(-7,7)\n",
    "y = tanh_forward_derivative(x)\n",
    "\n",
    "plt.style.use('fivethirtyeight')\n",
    "fig, ax = plt.subplots()\n",
    "ax.plot(x, y)\n",
    "ax.set_title(\"Plot of the ELU\")\n",
    "plt.show()"
   ]
  },
  {
   "cell_type": "markdown",
   "id": "ad62cb6c-9f63-4ada-bb29-ccdd8d59937a",
   "metadata": {},
   "source": [
    "the above is the plot of derivative of elu"
   ]
  },
  {
   "cell_type": "markdown",
   "id": "ddd572b1-8706-4690-8f20-d5d415c16d45",
   "metadata": {},
   "source": [
    "(b)\n",
    "the Swish activation function\n",
    "Swish is defined as x · σ(βx), where σ(z) = (1 + exp(−z))^−1\n",
    "is the sigmoid function\n",
    "and β is either a constant or a trainable parameter.\n",
    "\n",
    "research paper : \"Searching for Activation Functions\" by Prajit Ramachandran, Barret Zoph, and Quoc V. Le, which was published in 2018.\n",
    "\n",
    "\n",
    "Summary of the author's motivation:\n",
    "The authors were motivated to explore new activation functions because traditional ones like ReLU can suffer from the \"dying ReLU\" problem, where neurons can get stuck during training and stop learning. They aimed to find an activation function that performs well in various architectures and tasks, avoiding the vanishing gradient problem and providing better learning characteristics.\n",
    "\n",
    "Brief summary of the advantages of Swish activation function:\n",
    "The Swish activation function offers several advantages. It has a non-monotonic nature, which allows it to learn complex functions effectively. It provides smoothness compared to ReLU, reducing the risk of neuron saturation and the vanishing gradient problem. Furthermore, the Swish function is computationally efficient, making it suitable for large-scale deep learning models. Empirical results have shown that Swish can outperform ReLU and other activation functions in certain scenarios, leading to improved convergence and higher accuracy in neural networks.\n",
    "\n",
    "---------------------------------------\n",
    "the second one:\n",
    "Another popular activation function is the \"Leaky ReLU\" (LReLU) function.it is a type of activation function based on a ReLU, but it has a small slope for negative values instead of a flat slope. The slope coefficient is determined before training, i.e. it is not learnt during training. \n",
    "\n",
    "research paper: \"Rectifier Nonlinearities Improve Neural Network Acoustic Models\" by Andrew L. Maas, Awni Y. Hannun, and Andrew Y. Ng, which was published in 2013.\n",
    "\n",
    "Summary of the author's motivation:\n",
    "The authors aimed to address the limitations of the traditional ReLU activation function, which can lead to dead neurons during training (when the output is always negative). Dead neurons stop learning and can hinder the overall performance of deep neural networks. The motivation behind Leaky ReLU was to introduce a small, non-zero gradient for negative inputs, allowing neurons to overcome the dying ReLU problem and continue learning.\n",
    "\n",
    "Brief summary of the advantages of Leaky ReLU activation function:\n",
    "Leaky ReLU overcomes the issue of dead neurons that can occur in standard ReLU. By introducing a small negative slope for negative inputs, Leaky ReLU prevents neurons from getting stuck and enables the flow of gradients during backpropagation. This property makes Leaky ReLU more robust and less likely to suffer from the vanishing gradient problem. Additionally, Leaky ReLU retains the computational efficiency of ReLU, making it a popular choice in various deep learning architectures. It has been empirically shown to improve the performance and convergence of neural networks, especially in scenarios where traditional ReLU struggles.\n",
    "\n",
    "acknowledgement:\n",
    "i used chatgpt to find those two activation functions, their author's motivation and their advantage. \n",
    "I also went to the source and checked the paper actually existed and briefyly went through the paper and self wrote the math definition of those two activation function"
   ]
  },
  {
   "cell_type": "markdown",
   "id": "1fec190b-a0eb-4398-8fe4-5c846a826e1c",
   "metadata": {},
   "source": [
    "### <span style=\"color:#0b486b\">Question 1.2: Feed-forward neural networks</span>\n",
    "Assume that we feed a data point $x$ with a ground-truth label $y=3$ _(with index starting from 1 as in the lecture)_ to the feed-forward neural network with the ReLU activation function at hidden layers as shown in the following figure:\n",
    "\n",
    "<img src=\"Figures/Q2_P1_S2_2023.png\" width=\"600\" align=\"center\"/>\n",
    "\n",
    "**(a)** What is the numerical value of the latent presentation $h^1(x)$\n",
    "<div style=\"text-align: right\"><span style=\"color:red\">[1 point]</span></div>\n",
    "\n",
    "**(b)** What is the numerical value of the latent presentation $h^2(x)$?\n",
    "<div style=\"text-align: right\"><span style=\"color:red\">[1 point]</span></div> \n",
    "\n",
    "**(c)** What is the numerical value of the logit $h^3(x)$?\n",
    "<div style=\"text-align: right\"><span style=\"color:red\">[1 point]</span></div>\n",
    "\n",
    "**(d)** What is the corresonding prediction probabilities $p(x)$?\n",
    "<div style=\"text-align: right\"><span style=\"color:red\">[1 point]</span></div> \n",
    "\n",
    "**(e)** What is the predicted class? Is it a correct or incorrect prediction?\n",
    "<div style=\"text-align: right\"><span style=\"color:red\">[1 point]</span></div> \n",
    "\n",
    "**(f)** What is the cross-entropy loss value caused by the feed-forward neural network at $(x,y)$?\n",
    "<div style=\"text-align: right\"><span style=\"color:red\">[1 point]</span></div> \n",
    "\n",
    "**(g)** Assume that we are applying the label smoothing technique (i.e.,  [link for main paper](https://papers.nips.cc/paper/2019/file/f1748d6b0fd9d439f71450117eba2725-Paper.pdf) from Goeff Hinton) with $\\alpha = 0.1$. What is the relevant loss value caused by the feed-forward neural network at $(x,y)$?\n",
    "<div style=\"text-align: right\"><span style=\"color:red\">[2 point]</span></div> \n",
    "\n",
    "\n",
    "**You need to show both formulas and numerical results for earning full mark. Although it is optional, it is great if you show your numpy code for your computation.**"
   ]
  },
  {
   "cell_type": "markdown",
   "id": "5483b37a-ce1e-4974-9e97-e81306a81e0b",
   "metadata": {},
   "source": [
    "*# WRITE YOUR ANSWER HERE*\n",
    "\n",
    ".....\n",
    "\n",
    "\n"
   ]
  },
  {
   "cell_type": "code",
   "execution_count": 24,
   "id": "0bc1873a-e37a-4126-8756-e8377f538e51",
   "metadata": {},
   "outputs": [
    {
     "name": "stdout",
     "output_type": "stream",
     "text": [
      "tf.Tensor(\n",
      "[[ 1.]\n",
      " [-1.]\n",
      " [ 0.]], shape=(3, 1), dtype=float64)\n",
      "tf.Tensor(\n",
      "[[ 1. -1.  1.]\n",
      " [ 1. -1. -1.]\n",
      " [ 2. -1.  2.]\n",
      " [-1. -2.  1.]], shape=(4, 3), dtype=float64)\n",
      "tf.Tensor(\n",
      "[[2.]\n",
      " [2.]\n",
      " [3.]\n",
      " [1.]], shape=(4, 1), dtype=float64)\n",
      "tf.Tensor(\n",
      "[[3.]\n",
      " [2.]\n",
      " [4.]\n",
      " [1.]], shape=(4, 1), dtype=float64)\n",
      "tf.Tensor(\n",
      "[[3.]\n",
      " [2.]\n",
      " [4.]\n",
      " [1.]], shape=(4, 1), dtype=float64)\n"
     ]
    }
   ],
   "source": [
    "import tensorflow as tf\n",
    "import numpy as np\n",
    "# Create a tensor with a numpy array\n",
    "x = np.array([[1.], [-1.], [0.]]) # dtype is float64\n",
    "#a = np.transpose(a)\n",
    "x = tf.constant(x) # dtype is float64\n",
    "print(x)\n",
    "\n",
    "W1 = np.array([[1.,-1.,1.],[1.,-1.,-1.],[2.,-1.,2.],[-1.,-2.,1.]])\n",
    "W1 = tf.constant(W1)\n",
    "print(W1)\n",
    "\n",
    "b1 = np.array([[1.],[0.],[1.],[0.]])\n",
    "b1 = tf.constant(b1)\n",
    "\n",
    "h1 = tf.matmul(W1,x)\n",
    "print(h1)\n",
    "h1 = tf.add(h1,b1)\n",
    "print(h1)\n",
    "h1 = tf.nn.relu(h1)\n",
    "print(h1)\n",
    "\n",
    "\n",
    "\n",
    "\n"
   ]
  },
  {
   "cell_type": "markdown",
   "id": "09a45866-a236-4af7-9b2a-379bcf6dbc49",
   "metadata": {},
   "source": [
    "(a)numberical value of  the latent presentation  h1(x) is [[3],[2],[4],[1]]"
   ]
  },
  {
   "cell_type": "code",
   "execution_count": 25,
   "id": "f60fac24-fec1-4017-aa41-986c9d44f0d0",
   "metadata": {},
   "outputs": [
    {
     "name": "stdout",
     "output_type": "stream",
     "text": [
      "<dtype: 'float64'>\n",
      "tf.Tensor(\n",
      "[[0.]\n",
      " [5.]\n",
      " [5.]], shape=(3, 1), dtype=float64)\n"
     ]
    }
   ],
   "source": [
    "W2 = np.array([[1.,-1.,-1.,2.],[1.,-1.,1.,-1.],[1.,2.,-1.,2.]])\n",
    "W2 = tf.constant(W2)\n",
    "print(W2.dtype)\n",
    "\n",
    "b2 = tf.constant([[-1.],[1.],[0.]], dtype=tf.float64)\n",
    "\n",
    "\n",
    "h2 = tf.nn.relu(tf.add(tf.matmul(W2,h1),b2))\n",
    "print(h2)\n"
   ]
  },
  {
   "cell_type": "markdown",
   "id": "d696f024-e227-4603-a4d6-7bb8f7207e27",
   "metadata": {},
   "source": [
    "(b) numberical value of  the latent presentation  h2(x) is [[0],[5],[5]]"
   ]
  },
  {
   "cell_type": "code",
   "execution_count": 31,
   "id": "792ab4a9-e41f-46a5-b7ef-525f2466b4a1",
   "metadata": {},
   "outputs": [
    {
     "name": "stdout",
     "output_type": "stream",
     "text": [
      "tf.Tensor(\n",
      "[[0.]\n",
      " [3.]\n",
      " [2.]], shape=(3, 1), dtype=float64)\n"
     ]
    }
   ],
   "source": [
    "W3 = tf.constant([[1,-2,1],[1,2,-1],[-1,1,-1]], dtype=tf.float64)\n",
    "\n",
    "\n",
    "b3 = tf.constant([[4],[-2],[2]], dtype=tf.float64)\n",
    "\n",
    "\n",
    "h3 = tf.nn.relu(tf.add(tf.matmul(W3,h2),b3))\n",
    "print(h3)"
   ]
  },
  {
   "cell_type": "markdown",
   "id": "39dfd772-e06a-41c6-8d9c-09c2023fcaf5",
   "metadata": {},
   "source": [
    "(c) numberical value of  the latent presentation  h3(x) is [[0],[3],[2]]"
   ]
  },
  {
   "cell_type": "code",
   "execution_count": 30,
   "id": "dfd2fbdf-49e3-4c1d-bb5c-a9efc42314c2",
   "metadata": {},
   "outputs": [
    {
     "name": "stdout",
     "output_type": "stream",
     "text": [
      "tf.Tensor([[0.03511903 0.70538451 0.25949646]], shape=(1, 3), dtype=float64)\n"
     ]
    }
   ],
   "source": [
    "p = tf.nn.softmax(tf.transpose(h3))\n",
    "print(p)"
   ]
  },
  {
   "cell_type": "markdown",
   "id": "1dafaca7-d526-40a4-8946-5ec2ca50eedc",
   "metadata": {},
   "source": [
    "(d) the prediction p(x) is [0.03511903 0.70538451 0.25949646]"
   ]
  },
  {
   "cell_type": "markdown",
   "id": "49f5ca03-10a9-4085-becb-1fec59f8085a",
   "metadata": {},
   "source": [
    "(e) the prediction class is 2 as the second class is the biggest. the prediction is not right, as the ground truth is class 3"
   ]
  },
  {
   "cell_type": "code",
   "execution_count": 50,
   "id": "cb9410db-3e43-4ec3-b7cf-9f8ec0bd8c06",
   "metadata": {},
   "outputs": [
    {
     "name": "stdout",
     "output_type": "stream",
     "text": [
      "(1, 3)\n",
      "<dtype: 'float32'>\n",
      "(1, 3)\n",
      "1.3490122167681864\n"
     ]
    }
   ],
   "source": [
    "y_true = tf.constant([[0.],[0.],[1.]])\n",
    "#print(tf.transpose(y_true))\n",
    "\n",
    "y_true = tf.transpose(y_true)\n",
    "print(y_true.shape)\n",
    "print(y_true.dtype)\n",
    "print(p.shape)\n",
    "cce = tf.keras.losses.CategoricalCrossentropy()\n",
    "loss = cce(y_true, p).numpy()\n",
    "print(loss)"
   ]
  },
  {
   "cell_type": "markdown",
   "id": "a2531c9c-1d76-4e90-8804-638e9571fd4a",
   "metadata": {},
   "source": [
    "(f) the cross-entropy loss value caused by the feed-forward neural network is 1.3490122167681864"
   ]
  },
  {
   "cell_type": "code",
   "execution_count": 54,
   "id": "f022717a-cfe7-4e61-a1d3-7a4f21b9e9fb",
   "metadata": {},
   "outputs": [
    {
     "name": "stdout",
     "output_type": "stream",
     "text": [
      "tf.Tensor([[0.06333333 0.06333333 0.7923333 ]], shape=(1, 3), dtype=float32)\n",
      "1.3030755192232415\n"
     ]
    }
   ],
   "source": [
    "K = 3\n",
    "alpha = 0.1\n",
    "y_true = y_true*tf.constant(1.-alpha,dtype=tf.float32)+(alpha/K)\n",
    "print(y_true)\n",
    "cce2 = tf.keras.losses.CategoricalCrossentropy()\n",
    "loss = cce2(y_true, p).numpy()\n",
    "print(loss)"
   ]
  },
  {
   "cell_type": "markdown",
   "id": "06086408-96f0-4871-8827-0e3e2a5d0937",
   "metadata": {
    "tags": []
   },
   "source": [
    "### <span style=\"color:#0b486b\">Question 1.3: Back propagation</span>\n",
    "Assume that we are constructing a multilayered feed-forward neural network for a classification problem with three classes where the model parameters will be generated randomly using your student ID. \n",
    "\n",
    "The architecture is as follows: $3 (Input)\\rightarrow4(LeakyReLU)\\rightarrow 3(Output)$ (see figure below). Also note that the model parameters are randomly generated.\n",
    "\n",
    "<img src=\"Figures/Q3_P1_S2_2023.png\" width=\"500\" align=\"center\"/>\n",
    "\n",
    "We then feed a feature vector $x=\\left[\\begin{array}{ccc} 1 & -1 & 0\\end{array}\\right]^{T}$ with ground-truth label $y=3$ to the above network.\n",
    "\n",
    "**You need to show both formulas, numerical results, and your numpy code for your computation for earning full marks.**\n",
    "\n",
    "**(a)** Suppose that we use the cross-entropy (CE) loss. What is the value of the CE loss $l$?\n",
    "<div style=\"text-align: right\"><span style=\"color:red\">[2 point]</span></div>\n",
    "\n",
    "**(b)** What are the derivatives $\\frac{\\partial l}{\\partial h^{2}},\\frac{\\partial l}{\\partial W^{2}}$, and $\\frac{\\partial l}{\\partial b^{2}}$\n",
    "<div style=\"text-align: right\"><span style=\"color:red\">[3 points]</span></div>\n",
    "\n",
    "**(c)** What are the derivatives $\\frac{\\partial l}{\\partial h^{1}}, \\frac{\\partial l}{\\partial \\bar{h}^{1}},\\frac{\\partial l}{\\partial W^{1}}$, and $\\frac{\\partial l}{\\partial b^{1}}$? \n",
    "<div style=\"text-align: right\"><span style=\"color:red\">[3 points]</span></div>\n",
    "\n",
    "**(d)** Assume that we use SGD with learning rate $\\eta=0.01$ to update the model parameters. What are the values of $W^2, b^2$ and $W^1, b^1$ after updating?\n",
    "<div style=\"text-align: right\"><span style=\"color:red\">[2 points]</span></div>"
   ]
  },
  {
   "cell_type": "markdown",
   "id": "324fe960-0d6b-472a-b433-e1bed1e4ffea",
   "metadata": {},
   "source": [
    "(g)after using label smoothing technique, the relevant loss value caused by the feed-forward neural network is 1.3030755192232415"
   ]
  },
  {
   "cell_type": "markdown",
   "id": "b2f5a6f6-0a8f-498d-ad06-a2d1063d214f",
   "metadata": {
    "tags": []
   },
   "source": [
    "### <span style=\"color:#0b486b\">Question 1.4: Optimization with gradient descent</span>\n",
    "In this question, we will take a step further to get deeper understanding about gradient descent, one of the most important optimization techniques in deep learning.\n",
    "\n",
    "**(a)** Write the pseudo-code to implement the gradient descent algorithm and explain in your words what each line of the code does.\n",
    "<div style=\"text-align: right\"><span style=\"color:red\">[2 point]</span></div>\n",
    "\n",
    "**(b)** Explain in your own words why the negative gradient direction is the direction that give us a fastest decrease of loss value.\n",
    "<div style=\"text-align: right\"><span style=\"color:red\">[2 points]</span></div>\n"
   ]
  },
  {
   "cell_type": "markdown",
   "id": "615c2297-0d25-4849-9776-2359778ef39b",
   "metadata": {},
   "source": [
    "*# WRITE YOUR ANSWER HERE*\n",
    "\n",
    ".....\n",
    "\n",
    "\n"
   ]
  }
 ],
 "metadata": {
  "kernelspec": {
   "display_name": "Python 3 (ipykernel)",
   "language": "python",
   "name": "python3"
  },
  "language_info": {
   "codemirror_mode": {
    "name": "ipython",
    "version": 3
   },
   "file_extension": ".py",
   "mimetype": "text/x-python",
   "name": "python",
   "nbconvert_exporter": "python",
   "pygments_lexer": "ipython3",
   "version": "3.9.17"
  }
 },
 "nbformat": 4,
 "nbformat_minor": 5
}
