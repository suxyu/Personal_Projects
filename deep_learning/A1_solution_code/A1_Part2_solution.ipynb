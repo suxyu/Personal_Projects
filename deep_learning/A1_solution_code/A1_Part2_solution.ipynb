{
  "cells": [
    {
      "cell_type": "markdown",
      "metadata": {
        "id": "9OAXn3_KQHZE"
      },
      "source": [
        "## <span style=\"color:#0b486b\">Part 2: Deep Neural Networks (DNN) </span>\n",
        "<div style=\"text-align: right\"><span style=\"color:red\">[Total marks for this part: 30 points]<span></div>\n",
        "\n",
        "The first part of this assignment is for you to demonstrate your basis knowledge in deep learning that you have acquired from the lectures and tutorials materials. Most of the contents in this assignment are drawn from **the tutorials covered from weeks 1 to 5**. Going through these materials before attempting this assignment is highly recommended."
      ]
    },
    {
      "cell_type": "code",
      "source": [
        "!pip install emnist"
      ],
      "metadata": {
        "colab": {
          "base_uri": "https://localhost:8080/"
        },
        "id": "irgFFvRaRikF",
        "outputId": "e7375291-a65b-4010-d8d2-2ba9e3da4bdc"
      },
      "execution_count": 2,
      "outputs": [
        {
          "output_type": "stream",
          "name": "stdout",
          "text": [
            "Collecting emnist\n",
            "  Downloading emnist-0.0-py3-none-any.whl (7.3 kB)\n",
            "Requirement already satisfied: numpy in /usr/local/lib/python3.10/dist-packages (from emnist) (1.23.5)\n",
            "Requirement already satisfied: requests in /usr/local/lib/python3.10/dist-packages (from emnist) (2.31.0)\n",
            "Requirement already satisfied: tqdm in /usr/local/lib/python3.10/dist-packages (from emnist) (4.66.1)\n",
            "Requirement already satisfied: charset-normalizer<4,>=2 in /usr/local/lib/python3.10/dist-packages (from requests->emnist) (3.2.0)\n",
            "Requirement already satisfied: idna<4,>=2.5 in /usr/local/lib/python3.10/dist-packages (from requests->emnist) (3.4)\n",
            "Requirement already satisfied: urllib3<3,>=1.21.1 in /usr/local/lib/python3.10/dist-packages (from requests->emnist) (2.0.4)\n",
            "Requirement already satisfied: certifi>=2017.4.17 in /usr/local/lib/python3.10/dist-packages (from requests->emnist) (2023.7.22)\n",
            "Installing collected packages: emnist\n",
            "Successfully installed emnist-0.0\n"
          ]
        }
      ]
    },
    {
      "cell_type": "markdown",
      "metadata": {
        "id": "GInQG0KQQHZH"
      },
      "source": [
        "You are going to work with the **EMNIST** dataset for *image recognition task*. This dataset can be installed with the command <kbd>pip install emnist</kbd>. It has the exact same format as MNIST (grayscale images of 28 × 28 pixels), but the images represent handwritten letters rather than handwritten digits, so the problem is more challenging than MNIST."
      ]
    },
    {
      "cell_type": "markdown",
      "metadata": {
        "id": "nkrIEd1BQHZI"
      },
      "source": [
        "### <span style=\"color:#0b486b\">Question 2.1: Load the EMNIST datasets and process data</span>\n",
        "\n",
        "\n",
        "<div style=\"text-align: right\"> <span style=\"color:red\">[4 points]</span> </div>\n",
        "\n",
        "We first use functions in the package **emnist**, namely <kbd>extract_training_samples</kbd> and <kbd>extract_test_samples</kbd>, to load the training and testing sets. We also want to encode labels using an ordinal encoding scheme."
      ]
    },
    {
      "cell_type": "code",
      "execution_count": 3,
      "metadata": {
        "tags": [],
        "id": "Jzg7f9LVQHZI"
      },
      "outputs": [],
      "source": [
        "import numpy as np\n",
        "from emnist import extract_training_samples, extract_test_samples\n",
        "from sklearn.preprocessing import LabelEncoder"
      ]
    },
    {
      "cell_type": "code",
      "execution_count": 23,
      "metadata": {
        "tags": [],
        "colab": {
          "base_uri": "https://localhost:8080/"
        },
        "id": "JcnEVI8_QHZK",
        "outputId": "2507f21a-35d9-4167-ef0c-f0124c114023"
      },
      "outputs": [
        {
          "output_type": "stream",
          "name": "stdout",
          "text": [
            "(124800, 28, 28) (124800,) (20800, 28, 28) (20800,)\n"
          ]
        }
      ],
      "source": [
        "#get X_train_raw,y_train_raw,X_test_raw,y_test_raw from emnist\n",
        "X_train_raw, y_train_raw = extract_training_samples('letters')\n",
        "X_test_raw, y_test_raw = extract_test_samples('letters')\n",
        "print(X_train_raw.shape, y_train_raw.shape, X_test_raw.shape, y_test_raw.shape)"
      ]
    },
    {
      "cell_type": "code",
      "execution_count": 5,
      "metadata": {
        "colab": {
          "base_uri": "https://localhost:8080/"
        },
        "id": "Vf7WeOqkQHZL",
        "outputId": "99a00a7c-4f6d-4a87-be14-1abfdb38f58e"
      },
      "outputs": [
        {
          "output_type": "stream",
          "name": "stdout",
          "text": [
            "[23  7 16 ... 13 15 19]\n"
          ]
        }
      ],
      "source": [
        "#print(y_train_raw)"
      ]
    },
    {
      "cell_type": "code",
      "execution_count": 24,
      "metadata": {
        "tags": [],
        "id": "4ykv_aWdQHZL"
      },
      "outputs": [],
      "source": [
        "le = LabelEncoder()\n",
        "y_train_full = le.fit_transform(y_train_raw)\n",
        "#print(y_train_full)\n",
        "y_test = le.transform(y_test_raw)\n",
        "#print(y_test)\n",
        "\n",
        "class_ids = np.unique(y_train_full)#get the unique class id from y_train_full\n",
        "n_classes = len(class_ids)\n",
        "#print(class_ids)\n",
        "#print(n_classes)"
      ]
    },
    {
      "cell_type": "markdown",
      "metadata": {
        "id": "fU8HQ_zgQHZL"
      },
      "source": [
        "The shape of training and testing data are $(num\\_train, 28, 28)$ and $(num\\_test, 28, 28)$, where $num\\_train$ and $num\\_test$ are number of training and testing images respectively. We next convert them to arrays of vectors which have shape $(num\\_train, 784)$ and $(num\\_test, 784)$."
      ]
    },
    {
      "cell_type": "code",
      "execution_count": 25,
      "metadata": {
        "tags": [],
        "colab": {
          "base_uri": "https://localhost:8080/"
        },
        "id": "KNVOO2eyQHZM",
        "outputId": "38eba904-b8ea-4633-c2a4-e0c21ae50543"
      },
      "outputs": [
        {
          "output_type": "stream",
          "name": "stdout",
          "text": [
            "(124800, 784) (124800,)\n",
            "(20800, 784) (20800,)\n"
          ]
        }
      ],
      "source": [
        "num_train = X_train_raw.shape[0]#get the number of training set\n",
        "num_test = X_test_raw.shape[0]#get the number of test set\n",
        "X_train_full = X_train_raw.reshape(num_train,-1)#flattern the image\n",
        "X_test = X_test_raw.reshape(num_test,-1)\n",
        "print(X_train_full.shape, y_train_full.shape)\n",
        "print(X_test.shape, y_test.shape)"
      ]
    },
    {
      "cell_type": "code",
      "execution_count": 26,
      "metadata": {
        "colab": {
          "base_uri": "https://localhost:8080/"
        },
        "id": "DlQZlGaOQHZM",
        "outputId": "d89d21b9-41fe-42ca-c42c-2ff82d9818ec"
      },
      "outputs": [
        {
          "output_type": "stream",
          "name": "stdout",
          "text": [
            "124800\n",
            "20800\n"
          ]
        }
      ],
      "source": [
        "print(num_train)\n",
        "print(num_test)"
      ]
    },
    {
      "cell_type": "markdown",
      "metadata": {
        "id": "sFi9-x8HQHZN"
      },
      "source": [
        "### <span style=\"color:#0b486b\">Question 2.2: Split data into training, validation, and testing datasets</span>\n",
        "\n",
        "<div style=\"text-align: right\"> <span style=\"color:red\">[2 points]</span> </div>\n",
        "\n",
        "You need to write the code to address the following requirements:\n",
        "- Use $10 \\%$ of `X_train_full`, `y_train_full` for validation and the rest of `X_train_full`, `y_train_full` for training. This splits `X_train_full` and `y_train_full` into `X_train`, `y_train` ($90 \\%$) and `X_val`, `y_val` ($10 \\%$).\n",
        "- Finally, scale the pixels of `X_train`, `X_val`, and `X_test` to $[0,1]$) (i.e., $X = X/255.0$).\n",
        "\n",
        "You have now the separate training, validation, and testing sets for training your model.\n",
        "\n"
      ]
    },
    {
      "cell_type": "code",
      "execution_count": 27,
      "metadata": {
        "tags": [],
        "colab": {
          "base_uri": "https://localhost:8080/"
        },
        "id": "YRDKJigUQHZN",
        "outputId": "467315b8-e2e4-410c-a7ff-e7e0600992d6"
      },
      "outputs": [
        {
          "output_type": "stream",
          "name": "stdout",
          "text": [
            "(112320, 784) (112320,)\n",
            "(12480, 784) (12480,)\n",
            "(20800, 784) (20800,)\n",
            "0.0 1.0 0.0 1.0 0.0 1.0\n"
          ]
        }
      ],
      "source": [
        "from sklearn.model_selection import train_test_split\n",
        "X_train, X_val, y_train, y_val = train_test_split(X_train_full, y_train_full, test_size=0.1,random_state=42) #split the dataset\n",
        "X_train, X_val, X_test = X_train/255.0, X_val/255.0, X_test/255.0#scale the pixels\n",
        "\n",
        "print(X_train.shape, y_train.shape)\n",
        "print(X_val.shape, y_val.shape)\n",
        "print(X_test.shape, y_test.shape)\n",
        "\n",
        "print(X_train.min(), X_train.max(), X_val.min(), X_val.max(), X_test.min(), X_test.max())"
      ]
    },
    {
      "cell_type": "markdown",
      "metadata": {
        "id": "E4PUt3piQHZN"
      },
      "source": [
        "### <span style=\"color:#0b486b\">Question 2.3: Visualize some images in the training set with labels</span>\n",
        "\n",
        "<div style=\"text-align: right\"> <span style=\"color:red\">[5 points]</span> </div>\n",
        "\n",
        "You are required to write the code to **randomly** show $36$ images in X_train_full_img (which is an array of images) with labels as in the following figure.\n",
        "\n",
        "<img src=\"Figures/emnist_grid.png\" width=\"450\" align=\"center\"/>"
      ]
    },
    {
      "cell_type": "code",
      "source": [
        "import numpy as np\n",
        "import matplotlib.pyplot as plt\n",
        "\n",
        "def display_random_images_reshaped(X, y, n=36):\n",
        "    # Randomly select n indices\n",
        "    indices = np.random.choice(X.shape[0], n, replace=False)\n",
        "\n",
        "\n",
        "    # Extract the images and labels\n",
        "    images = X[indices]\n",
        "    labels = y[indices]\n",
        "\n",
        "    labels = [chr( 65+ int(label)) for label in labels]# convert the numbers to its coresponding letters\n",
        "\n",
        "    # Plot\n",
        "    fig, axes = plt.subplots(6, 6, figsize=(10, 10))\n",
        "    for i, ax in enumerate(axes.flat):\n",
        "        ax.imshow(images[i].reshape(28, 28), cmap='gray')  # Reshaping the image here\n",
        "        ax.set_title(labels[i])\n",
        "        ax.axis('off')\n",
        "\n",
        "    plt.tight_layout()\n",
        "    plt.show()"
      ],
      "metadata": {
        "id": "EIBRaLyERc8E"
      },
      "execution_count": 28,
      "outputs": []
    },
    {
      "cell_type": "code",
      "source": [
        "display_random_images_reshaped(X_train_full,y_train_full)"
      ],
      "metadata": {
        "colab": {
          "base_uri": "https://localhost:8080/",
          "height": 1000
        },
        "id": "hxDskRvASCIA",
        "outputId": "31af4294-6b75-4c7e-8569-1cfb116cd514"
      },
      "execution_count": 29,
      "outputs": [
        {
          "output_type": "display_data",
          "data": {
            "text/plain": [
              "<Figure size 1000x1000 with 36 Axes>"
            ],
            "image/png": "[encoded data removed]"
          },
          "metadata": {}
        }
      ]
    },
    {
      "cell_type": "markdown",
      "metadata": {
        "id": "Q1pUzi5nQHZP"
      },
      "source": [
        "### <span style=\"color:#0b486b\">Question 2.4: Write code for the feed-forward neural net using TF 2.x</span>\n",
        "\n",
        "<div style=\"text-align: right\"> <span style=\"color:red\">[5 points]</span> </div>"
      ]
    },
    {
      "cell_type": "markdown",
      "metadata": {
        "id": "LikhW_L5QHZP"
      },
      "source": [
        "We now develop a feed-forward neural network with the architecture $784 \\rightarrow 20(ReLU) \\rightarrow 40(ReLU) \\rightarrow 10(softmax)$. You can choose your own way to implement your network and an optimizer of interest. You should train model in $20$ epochs and evaluate the trained model on the test set."
      ]
    },
    {
      "cell_type": "code",
      "execution_count": 30,
      "metadata": {
        "tags": [],
        "id": "t8yBF_oQQHZP"
      },
      "outputs": [],
      "source": [
        "import tensorflow as tf\n",
        "random_seed = 3181\n",
        "tf.random.set_seed(random_seed)"
      ]
    },
    {
      "cell_type": "code",
      "execution_count": 31,
      "metadata": {
        "id": "Grpj2BAWQHZP"
      },
      "outputs": [],
      "source": [
        "from tensorflow.keras.models import Sequential\n",
        "from tensorflow.keras.layers import Dense,Flatten"
      ]
    },
    {
      "cell_type": "code",
      "execution_count": 32,
      "metadata": {
        "tags": [],
        "id": "ZP8LFFNKQHZP"
      },
      "outputs": [],
      "source": [
        "# YOU ARE REQUIRED TO INSERT YOUR CODES IN THIS CELL\n",
        "# You can add more cells if necessary\n",
        "model = Sequential()#build the model\n",
        "model.add(Dense(units=20, input_shape=(784,),activation='relu'))\n",
        "model.add(Dense(units=40,activation='relu'))\n",
        "model.add(Dense(units=26,activation='softmax'))\n"
      ]
    },
    {
      "cell_type": "code",
      "execution_count": 33,
      "metadata": {
        "colab": {
          "base_uri": "https://localhost:8080/"
        },
        "id": "CYRaHpzJQHZP",
        "outputId": "e1a19c4f-b8b7-4025-8efc-7018342caef5"
      },
      "outputs": [
        {
          "output_type": "stream",
          "name": "stdout",
          "text": [
            "Model: \"sequential\"\n",
            "_________________________________________________________________\n",
            " Layer (type)                Output Shape              Param #   \n",
            "=================================================================\n",
            " dense (Dense)               (None, 20)                15700     \n",
            "                                                                 \n",
            " dense_1 (Dense)             (None, 40)                840       \n",
            "                                                                 \n",
            " dense_2 (Dense)             (None, 26)                1066      \n",
            "                                                                 \n",
            "=================================================================\n",
            "Total params: 17606 (68.77 KB)\n",
            "Trainable params: 17606 (68.77 KB)\n",
            "Non-trainable params: 0 (0.00 Byte)\n",
            "_________________________________________________________________\n"
          ]
        }
      ],
      "source": [
        "model.build()\n",
        "model.summary()"
      ]
    },
    {
      "cell_type": "code",
      "execution_count": 34,
      "metadata": {
        "id": "ZMmGMPqHQHZP"
      },
      "outputs": [],
      "source": [
        "model.compile(optimizer='adam',loss='sparse_categorical_crossentropy',metrics=['accuracy'])#compile the model"
      ]
    },
    {
      "cell_type": "code",
      "execution_count": null,
      "metadata": {
        "id": "SrJtdgJgQHZQ",
        "outputId": "98be1104-59d6-4bbc-c5f7-271a7272d0ea"
      },
      "outputs": [
        {
          "name": "stdout",
          "output_type": "stream",
          "text": [
            "26\n"
          ]
        }
      ],
      "source": [
        "num_neurons_last_layer = model.layers[-1].output_shape[-1] #check\n",
        "print(num_neurons_last_layer)\n"
      ]
    },
    {
      "cell_type": "code",
      "execution_count": null,
      "metadata": {
        "id": "9coadTigQHZQ",
        "outputId": "b8e88bb9-26ef-4997-f04a-5311940c6223"
      },
      "outputs": [
        {
          "name": "stdout",
          "output_type": "stream",
          "text": [
            "[ 0  1  2  3  4  5  6  7  8  9 10 11 12 13 14 15 16 17 18 19 20 21 22 23\n",
            " 24 25]\n"
          ]
        }
      ],
      "source": [
        "unique_labels = np.unique(y_train) # check the labels\n",
        "print(unique_labels)\n"
      ]
    },
    {
      "cell_type": "code",
      "execution_count": null,
      "metadata": {
        "id": "zXuzN_jgQHZQ",
        "outputId": "1e5bcebc-7d82-407a-ef94-7737f9371fb7"
      },
      "outputs": [
        {
          "name": "stdout",
          "output_type": "stream",
          "text": [
            "Epoch 1/20\n",
            "3510/3510 [==============================] - 8s 2ms/step - loss: 1.0945 - accuracy: 0.6768 - val_loss: 0.8191 - val_accuracy: 0.7542\n",
            "Epoch 2/20\n",
            "3510/3510 [==============================] - 5s 2ms/step - loss: 0.7432 - accuracy: 0.7791 - val_loss: 0.7000 - val_accuracy: 0.7944\n",
            "Epoch 3/20\n",
            "3510/3510 [==============================] - 6s 2ms/step - loss: 0.6586 - accuracy: 0.8020 - val_loss: 0.6417 - val_accuracy: 0.8104\n",
            "Epoch 4/20\n",
            "3510/3510 [==============================] - 6s 2ms/step - loss: 0.6121 - accuracy: 0.8156 - val_loss: 0.6094 - val_accuracy: 0.8125\n",
            "Epoch 5/20\n",
            "3510/3510 [==============================] - 7s 2ms/step - loss: 0.5803 - accuracy: 0.8252 - val_loss: 0.5953 - val_accuracy: 0.8183\n",
            "Epoch 6/20\n",
            "3510/3510 [==============================] - 6s 2ms/step - loss: 0.5590 - accuracy: 0.8308 - val_loss: 0.5682 - val_accuracy: 0.8285\n",
            "Epoch 7/20\n",
            "3510/3510 [==============================] - 6s 2ms/step - loss: 0.5421 - accuracy: 0.8351 - val_loss: 0.5530 - val_accuracy: 0.8296\n",
            "Epoch 8/20\n",
            "3510/3510 [==============================] - 6s 2ms/step - loss: 0.5272 - accuracy: 0.8389 - val_loss: 0.5517 - val_accuracy: 0.8316\n",
            "Epoch 9/20\n",
            "3510/3510 [==============================] - 6s 2ms/step - loss: 0.5158 - accuracy: 0.8423 - val_loss: 0.5235 - val_accuracy: 0.8361\n",
            "Epoch 10/20\n",
            "3510/3510 [==============================] - 7s 2ms/step - loss: 0.5063 - accuracy: 0.8445 - val_loss: 0.5301 - val_accuracy: 0.8362\n",
            "Epoch 11/20\n",
            "3510/3510 [==============================] - 7s 2ms/step - loss: 0.4972 - accuracy: 0.8477 - val_loss: 0.5218 - val_accuracy: 0.8397\n",
            "Epoch 12/20\n",
            "3510/3510 [==============================] - 6s 2ms/step - loss: 0.4898 - accuracy: 0.8493 - val_loss: 0.5207 - val_accuracy: 0.8400\n",
            "Epoch 13/20\n",
            "3510/3510 [==============================] - 6s 2ms/step - loss: 0.4824 - accuracy: 0.8502 - val_loss: 0.5102 - val_accuracy: 0.8405\n",
            "Epoch 14/20\n",
            "3510/3510 [==============================] - 6s 2ms/step - loss: 0.4754 - accuracy: 0.8528 - val_loss: 0.5083 - val_accuracy: 0.8438\n",
            "Epoch 15/20\n",
            "3510/3510 [==============================] - 6s 2ms/step - loss: 0.4708 - accuracy: 0.8541 - val_loss: 0.5053 - val_accuracy: 0.8439\n",
            "Epoch 16/20\n",
            "3510/3510 [==============================] - 6s 2ms/step - loss: 0.4659 - accuracy: 0.8556 - val_loss: 0.5005 - val_accuracy: 0.8494\n",
            "Epoch 17/20\n",
            "3510/3510 [==============================] - 6s 2ms/step - loss: 0.4614 - accuracy: 0.8560 - val_loss: 0.5052 - val_accuracy: 0.8429\n",
            "Epoch 18/20\n",
            "3510/3510 [==============================] - 6s 2ms/step - loss: 0.4581 - accuracy: 0.8574 - val_loss: 0.5080 - val_accuracy: 0.8444\n",
            "Epoch 19/20\n",
            "3510/3510 [==============================] - 6s 2ms/step - loss: 0.4547 - accuracy: 0.8583 - val_loss: 0.4959 - val_accuracy: 0.8462\n",
            "Epoch 20/20\n",
            "3510/3510 [==============================] - 7s 2ms/step - loss: 0.4509 - accuracy: 0.8597 - val_loss: 0.4976 - val_accuracy: 0.8486\n"
          ]
        }
      ],
      "source": [
        "from tensorflow import keras\n",
        "logdir = \"tf_logs/example01\"\n",
        "\n",
        "# Init a tensorboard_callback\n",
        "tensorboard_callback = keras.callbacks.TensorBoard(log_dir=logdir)\n",
        "\n",
        "history = model.fit(X_train, y_train, epochs=20, validation_data=(X_val, y_val),callbacks=[tensorboard_callback])\n"
      ]
    },
    {
      "cell_type": "code",
      "execution_count": null,
      "metadata": {
        "id": "d-sc7c2AQHZQ",
        "outputId": "63fd4b74-bd24-42a9-d5d5-4e8bb5f2e574"
      },
      "outputs": [
        {
          "name": "stdout",
          "output_type": "stream",
          "text": [
            "650/650 [==============================] - 1s 1ms/step - loss: 0.5131 - accuracy: 0.8468\n"
          ]
        },
        {
          "data": {
            "text/plain": [
              "[0.5130547285079956, 0.8468269109725952]"
            ]
          },
          "execution_count": 21,
          "metadata": {},
          "output_type": "execute_result"
        }
      ],
      "source": [
        "model.evaluate(X_test,y_test)"
      ]
    },
    {
      "cell_type": "markdown",
      "metadata": {
        "id": "p9MFbReaQHZQ"
      },
      "source": [
        "### <span style=\"color:#0b486b\">Question 2.5: Tuning hyper-parameters with grid search</span>\n",
        "<div style=\"text-align: right\"> <span style=\"color:red\">[6 points]</span> </div>\n",
        "\n",
        "Assume that you need to tune the number of neurons on the first and second hidden layers $n_1 \\in \\{20, 40\\}$, $n_2 \\in \\{20, 40\\}$  and the used activation function  $act \\in \\{sigmoid, tanh, relu\\}$. The network has the architecture pattern $784 \\rightarrow n_1 (act) \\rightarrow n_2(act) \\rightarrow 10(softmax)$ where $n_1, n_2$, and $act$ are in their grides. Write the code to tune the hyper-parameters $n_1, n_2$, and $act$. Note that you can freely choose the optimizer and learning rate of interest for this task."
      ]
    },
    {
      "cell_type": "code",
      "execution_count": null,
      "metadata": {
        "tags": [],
        "id": "4MOe3nMNQHZQ",
        "outputId": "dee1ad03-40aa-4f15-d30f-1308300c0769"
      },
      "outputs": [
        {
          "name": "stdout",
          "output_type": "stream",
          "text": [
            "{'n1': 40, 'n2': 40, 'activation': 'relu', 'val_accuracy': 0.873317301273346}\n"
          ]
        }
      ],
      "source": [
        "# YOU ARE REQUIRED TO INSERT YOUR CODES IN THIS CELL\n",
        "# You can add more cells if necessary\n",
        "\n",
        "import numpy as np\n",
        "from tensorflow.keras.models import Sequential\n",
        "from tensorflow.keras.layers import Dense\n",
        "from tensorflow.keras.optimizers import Adam\n",
        "\n",
        "\n",
        "#set up the grides\n",
        "neurons_1 = [20, 40]\n",
        "neurons_2 = [20, 40]\n",
        "activations = ['sigmoid', 'tanh', 'relu']\n",
        "\n",
        "def build_model(n1, n2, activation_function):#build model based on different value combination\n",
        "    model = Sequential([\n",
        "        Dense(n1, activation=activation_function, input_shape=(784,)),\n",
        "        Dense(n2, activation=activation_function),\n",
        "        Dense(26, activation='softmax')\n",
        "    ])\n",
        "    model.compile(optimizer=Adam(), loss='sparse_categorical_crossentropy', metrics=['accuracy'])\n",
        "    return model\n",
        "\n",
        "results = []\n",
        "\n",
        "for n1 in neurons_1:\n",
        "    for n2 in neurons_2:\n",
        "        for act in activations:\n",
        "            model = build_model(n1, n2, act)\n",
        "            history = model.fit(X_train, y_train, epochs=20, validation_data=(X_val, y_val), verbose=0)\n",
        "            val_accuracy = history.history['val_accuracy'][-1]  # use the last epoch's accuracy\n",
        "            results.append({\n",
        "                'n1': n1,\n",
        "                'n2': n2,\n",
        "                'activation': act,\n",
        "                'val_accuracy': val_accuracy\n",
        "            })\n",
        "\n",
        "best_result = max(results, key=lambda x: x['val_accuracy'])\n",
        "print(best_result)"
      ]
    },
    {
      "cell_type": "markdown",
      "metadata": {
        "id": "P_DlycR2QHZQ"
      },
      "source": [
        "The result shows that the best parameter found is: n1:40,n2:40,activation:'relu', the validation accuracy is 0.873317301273346"
      ]
    },
    {
      "cell_type": "markdown",
      "metadata": {
        "id": "DW7Gy2i2QHZQ"
      },
      "source": [
        "### <span style=\"color:#0b486b\">Question 2.6: Experimenting with the **label smoothing** technique</span>\n",
        "<div style=\"text-align: right\"> <span style=\"color:red\">[8 points]</span> </div>\n",
        "\n",
        "Implement the label smoothing technique (i.e., [link for main paper](https://papers.nips.cc/paper/2019/file/f1748d6b0fd9d439f71450117eba2725-Paper.pdf) from Goeff Hinton) by yourself. Note that you cannot use the built-in label-smoothing loss function in TF2.x. Try the label smoothing technique with $\\alpha =0.1, 0.15, 0.2$ and report the performances. You need to examine the label smoothing technique with the best architecture obtained in **Question 2.5**."
      ]
    },
    {
      "cell_type": "code",
      "execution_count": null,
      "metadata": {
        "tags": [],
        "id": "S0Luwct8QHZR",
        "outputId": "d81c745a-3399-4eef-f6cd-7547389f018d"
      },
      "outputs": [
        {
          "name": "stdout",
          "output_type": "stream",
          "text": [
            "Epoch 1/20\n",
            "3510/3510 [==============================] - 12s 2ms/step - loss: 1.4916 - accuracy: 0.7159 - val_loss: 0.7900 - val_accuracy: 0.7910\n",
            "Epoch 2/20\n",
            "3510/3510 [==============================] - 6s 2ms/step - loss: 1.2075 - accuracy: 0.8211 - val_loss: 0.6687 - val_accuracy: 0.8299\n",
            "Epoch 3/20\n",
            "3510/3510 [==============================] - 5s 1ms/step - loss: 1.1434 - accuracy: 0.8413 - val_loss: 0.6154 - val_accuracy: 0.8456\n",
            "Epoch 4/20\n",
            "3510/3510 [==============================] - 5s 2ms/step - loss: 1.1057 - accuracy: 0.8531 - val_loss: 0.5962 - val_accuracy: 0.8517\n",
            "Epoch 5/20\n",
            "3510/3510 [==============================] - 5s 2ms/step - loss: 1.0780 - accuracy: 0.8620 - val_loss: 0.5663 - val_accuracy: 0.8577\n",
            "Epoch 6/20\n",
            "3510/3510 [==============================] - 6s 2ms/step - loss: 1.0606 - accuracy: 0.8668 - val_loss: 0.5613 - val_accuracy: 0.8599\n",
            "Epoch 7/20\n",
            "3510/3510 [==============================] - 5s 2ms/step - loss: 1.0484 - accuracy: 0.8710 - val_loss: 0.5443 - val_accuracy: 0.8634\n",
            "Epoch 8/20\n",
            "3510/3510 [==============================] - 6s 2ms/step - loss: 1.0373 - accuracy: 0.8745 - val_loss: 0.5401 - val_accuracy: 0.8659\n",
            "Epoch 9/20\n",
            "3510/3510 [==============================] - 6s 2ms/step - loss: 1.0297 - accuracy: 0.8769 - val_loss: 0.5256 - val_accuracy: 0.8673\n",
            "Epoch 10/20\n",
            "3510/3510 [==============================] - 6s 2ms/step - loss: 1.0220 - accuracy: 0.8801 - val_loss: 0.5215 - val_accuracy: 0.8681\n",
            "Epoch 11/20\n",
            "3510/3510 [==============================] - 6s 2ms/step - loss: 1.0170 - accuracy: 0.8815 - val_loss: 0.5270 - val_accuracy: 0.8709\n",
            "Epoch 12/20\n",
            "3510/3510 [==============================] - 6s 2ms/step - loss: 1.0111 - accuracy: 0.8836 - val_loss: 0.5211 - val_accuracy: 0.8720\n",
            "Epoch 13/20\n",
            "3510/3510 [==============================] - 6s 2ms/step - loss: 1.0064 - accuracy: 0.8838 - val_loss: 0.5196 - val_accuracy: 0.8727\n",
            "Epoch 14/20\n",
            "3510/3510 [==============================] - 6s 2ms/step - loss: 1.0019 - accuracy: 0.8860 - val_loss: 0.5167 - val_accuracy: 0.8731\n",
            "Epoch 15/20\n",
            "3510/3510 [==============================] - 6s 2ms/step - loss: 0.9987 - accuracy: 0.8867 - val_loss: 0.5197 - val_accuracy: 0.8706\n",
            "Epoch 16/20\n",
            "3510/3510 [==============================] - 6s 2ms/step - loss: 0.9951 - accuracy: 0.8884 - val_loss: 0.5108 - val_accuracy: 0.8765\n",
            "Epoch 17/20\n",
            "3510/3510 [==============================] - 6s 2ms/step - loss: 0.9919 - accuracy: 0.8891 - val_loss: 0.5181 - val_accuracy: 0.8719\n",
            "Epoch 18/20\n",
            "3510/3510 [==============================] - 6s 2ms/step - loss: 0.9886 - accuracy: 0.8903 - val_loss: 0.5104 - val_accuracy: 0.8748\n",
            "Epoch 19/20\n",
            "3510/3510 [==============================] - 6s 2ms/step - loss: 0.9860 - accuracy: 0.8914 - val_loss: 0.4914 - val_accuracy: 0.8769\n",
            "Epoch 20/20\n",
            "3510/3510 [==============================] - 6s 2ms/step - loss: 0.9838 - accuracy: 0.8920 - val_loss: 0.5012 - val_accuracy: 0.8777\n",
            "390/390 [==============================] - 0s 1ms/step - loss: 0.5012 - accuracy: 0.8777\n",
            "Epoch 1/20\n",
            "3510/3510 [==============================] - 7s 2ms/step - loss: 1.6773 - accuracy: 0.7209 - val_loss: 0.8476 - val_accuracy: 0.7934\n",
            "Epoch 2/20\n",
            "3510/3510 [==============================] - 6s 2ms/step - loss: 1.4304 - accuracy: 0.8187 - val_loss: 0.7353 - val_accuracy: 0.8292\n",
            "Epoch 3/20\n",
            "3510/3510 [==============================] - 6s 2ms/step - loss: 1.3701 - accuracy: 0.8397 - val_loss: 0.6850 - val_accuracy: 0.8438\n",
            "Epoch 4/20\n",
            "3510/3510 [==============================] - 6s 2ms/step - loss: 1.3361 - accuracy: 0.8515 - val_loss: 0.6653 - val_accuracy: 0.8504\n",
            "Epoch 5/20\n",
            "3510/3510 [==============================] - 6s 2ms/step - loss: 1.3139 - accuracy: 0.8596 - val_loss: 0.6240 - val_accuracy: 0.8588\n",
            "Epoch 6/20\n",
            "3510/3510 [==============================] - 7s 2ms/step - loss: 1.2996 - accuracy: 0.8638 - val_loss: 0.6258 - val_accuracy: 0.8603\n",
            "Epoch 7/20\n",
            "3510/3510 [==============================] - 6s 2ms/step - loss: 1.2875 - accuracy: 0.8682 - val_loss: 0.6121 - val_accuracy: 0.8623\n",
            "Epoch 8/20\n",
            "3510/3510 [==============================] - 6s 2ms/step - loss: 1.2772 - accuracy: 0.8716 - val_loss: 0.6048 - val_accuracy: 0.8671\n",
            "Epoch 9/20\n",
            "3510/3510 [==============================] - 6s 2ms/step - loss: 1.2688 - accuracy: 0.8739 - val_loss: 0.5921 - val_accuracy: 0.8674\n",
            "Epoch 10/20\n",
            "3510/3510 [==============================] - 6s 2ms/step - loss: 1.2613 - accuracy: 0.8769 - val_loss: 0.5836 - val_accuracy: 0.8683\n",
            "Epoch 11/20\n",
            "3510/3510 [==============================] - 7s 2ms/step - loss: 1.2554 - accuracy: 0.8793 - val_loss: 0.5832 - val_accuracy: 0.8684\n",
            "Epoch 12/20\n",
            "3510/3510 [==============================] - 6s 2ms/step - loss: 1.2502 - accuracy: 0.8807 - val_loss: 0.5792 - val_accuracy: 0.8734\n",
            "Epoch 13/20\n",
            "3510/3510 [==============================] - 6s 2ms/step - loss: 1.2449 - accuracy: 0.8829 - val_loss: 0.5763 - val_accuracy: 0.8736\n",
            "Epoch 14/20\n",
            "3510/3510 [==============================] - 7s 2ms/step - loss: 1.2412 - accuracy: 0.8834 - val_loss: 0.5732 - val_accuracy: 0.8701\n",
            "Epoch 15/20\n",
            "3510/3510 [==============================] - 6s 2ms/step - loss: 1.2374 - accuracy: 0.8843 - val_loss: 0.5787 - val_accuracy: 0.8688\n",
            "Epoch 16/20\n",
            "3510/3510 [==============================] - 8s 2ms/step - loss: 1.2345 - accuracy: 0.8850 - val_loss: 0.5817 - val_accuracy: 0.8756\n",
            "Epoch 17/20\n",
            "3510/3510 [==============================] - 8s 2ms/step - loss: 1.2315 - accuracy: 0.8861 - val_loss: 0.5771 - val_accuracy: 0.8704\n",
            "Epoch 18/20\n",
            "3510/3510 [==============================] - 8s 2ms/step - loss: 1.2282 - accuracy: 0.8884 - val_loss: 0.5807 - val_accuracy: 0.8732\n",
            "Epoch 19/20\n",
            "3510/3510 [==============================] - 8s 2ms/step - loss: 1.2259 - accuracy: 0.8882 - val_loss: 0.5653 - val_accuracy: 0.8728\n",
            "Epoch 20/20\n",
            "3510/3510 [==============================] - 9s 3ms/step - loss: 1.2240 - accuracy: 0.8891 - val_loss: 0.5563 - val_accuracy: 0.8744\n",
            "390/390 [==============================] - 1s 2ms/step - loss: 0.5563 - accuracy: 0.8744\n",
            "Epoch 1/20\n",
            "3510/3510 [==============================] - 9s 2ms/step - loss: 1.8343 - accuracy: 0.7285 - val_loss: 0.8802 - val_accuracy: 0.7972\n",
            "Epoch 2/20\n",
            "3510/3510 [==============================] - 8s 2ms/step - loss: 1.6145 - accuracy: 0.8235 - val_loss: 0.7745 - val_accuracy: 0.8329\n",
            "Epoch 3/20\n",
            "3510/3510 [==============================] - 6s 2ms/step - loss: 1.5606 - accuracy: 0.8433 - val_loss: 0.7323 - val_accuracy: 0.8502\n",
            "Epoch 4/20\n",
            "3510/3510 [==============================] - 6s 2ms/step - loss: 1.5304 - accuracy: 0.8553 - val_loss: 0.7160 - val_accuracy: 0.8553\n",
            "Epoch 5/20\n",
            "3510/3510 [==============================] - 6s 2ms/step - loss: 1.5102 - accuracy: 0.8622 - val_loss: 0.6864 - val_accuracy: 0.8584\n",
            "Epoch 6/20\n",
            "3510/3510 [==============================] - 6s 2ms/step - loss: 1.4968 - accuracy: 0.8666 - val_loss: 0.7023 - val_accuracy: 0.8590\n",
            "Epoch 7/20\n",
            "3510/3510 [==============================] - 6s 2ms/step - loss: 1.4865 - accuracy: 0.8701 - val_loss: 0.6847 - val_accuracy: 0.8627\n",
            "Epoch 8/20\n",
            "3510/3510 [==============================] - 6s 2ms/step - loss: 1.4775 - accuracy: 0.8733 - val_loss: 0.6571 - val_accuracy: 0.8655\n",
            "Epoch 9/20\n",
            "3510/3510 [==============================] - 6s 2ms/step - loss: 1.4704 - accuracy: 0.8756 - val_loss: 0.6493 - val_accuracy: 0.8700\n",
            "Epoch 10/20\n",
            "3510/3510 [==============================] - 6s 2ms/step - loss: 1.4641 - accuracy: 0.8771 - val_loss: 0.6393 - val_accuracy: 0.8650\n",
            "Epoch 11/20\n",
            "3510/3510 [==============================] - 6s 2ms/step - loss: 1.4592 - accuracy: 0.8796 - val_loss: 0.6414 - val_accuracy: 0.8714\n",
            "Epoch 12/20\n",
            "3510/3510 [==============================] - 6s 2ms/step - loss: 1.4548 - accuracy: 0.8805 - val_loss: 0.6504 - val_accuracy: 0.8671\n",
            "Epoch 13/20\n",
            "3510/3510 [==============================] - 6s 2ms/step - loss: 1.4513 - accuracy: 0.8817 - val_loss: 0.6643 - val_accuracy: 0.8700\n",
            "Epoch 14/20\n",
            "3510/3510 [==============================] - 6s 2ms/step - loss: 1.4477 - accuracy: 0.8830 - val_loss: 0.6309 - val_accuracy: 0.8731\n",
            "Epoch 15/20\n",
            "3510/3510 [==============================] - 6s 2ms/step - loss: 1.4443 - accuracy: 0.8833 - val_loss: 0.6489 - val_accuracy: 0.8738\n",
            "Epoch 16/20\n",
            "3510/3510 [==============================] - 6s 2ms/step - loss: 1.4418 - accuracy: 0.8836 - val_loss: 0.6316 - val_accuracy: 0.8724\n",
            "Epoch 17/20\n",
            "3510/3510 [==============================] - 6s 2ms/step - loss: 1.4395 - accuracy: 0.8847 - val_loss: 0.6433 - val_accuracy: 0.8703\n",
            "Epoch 18/20\n",
            "3510/3510 [==============================] - 6s 2ms/step - loss: 1.4367 - accuracy: 0.8857 - val_loss: 0.6435 - val_accuracy: 0.8727\n",
            "Epoch 19/20\n",
            "3510/3510 [==============================] - 6s 2ms/step - loss: 1.4344 - accuracy: 0.8862 - val_loss: 0.6464 - val_accuracy: 0.8724\n",
            "Epoch 20/20\n",
            "3510/3510 [==============================] - 6s 2ms/step - loss: 1.4321 - accuracy: 0.8865 - val_loss: 0.6304 - val_accuracy: 0.8736\n",
            "390/390 [==============================] - 0s 1ms/step - loss: 0.6304 - accuracy: 0.8736\n",
            "Alpha: 0.1, Validation Accuracy: 0.8777243494987488\n",
            "Alpha: 0.15, Validation Accuracy: 0.8743589520454407\n",
            "Alpha: 0.2, Validation Accuracy: 0.8736377954483032\n"
          ]
        }
      ],
      "source": [
        "# YOU ARE REQUIRED TO INSERT YOUR CODES IN THIS CELL\n",
        "# You can add more cells if necessary\n",
        "\n",
        "def label_smoothing(labels, alpha, num_classes):\n",
        "    return (1 - alpha) * labels + (alpha / num_classes)\n",
        "\n",
        "\n",
        "def build_best_model():#use the parameter founder previously to build the model\n",
        "    model = Sequential([\n",
        "        Dense(40, activation='relu', input_shape=(784,)),\n",
        "        Dense(40, activation='relu'),\n",
        "        Dense(26, activation='softmax')\n",
        "    ])\n",
        "    model.compile(optimizer=Adam(), loss='categorical_crossentropy', metrics=['accuracy'])\n",
        "    return model\n",
        "\n",
        "alphas = [0.1, 0.15, 0.2]#different value for alpha\n",
        "results = []\n",
        "\n",
        "from tensorflow.keras.utils import to_categorical\n",
        "\n",
        "for alpha in alphas:\n",
        "    y_train_hot = to_categorical(y_train) #convert to hot vector format\n",
        "    y_val_hot = to_categorical(y_val)\n",
        "\n",
        "    smoothed_labels = label_smoothing(y_train_hot, alpha, num_classes=26)\n",
        "\n",
        "\n",
        "\n",
        "    model = build_best_model()\n",
        "    model.fit(X_train, smoothed_labels, epochs=20, validation_data=(X_val, y_val_hot))\n",
        "\n",
        "\n",
        "    _, val_accuracy = model.evaluate(X_val, y_val_hot)\n",
        "    results.append({\n",
        "        'alpha': alpha,\n",
        "        'val_accuracy': val_accuracy\n",
        "    })\n",
        "\n",
        "\n",
        "for result in results:\n",
        "    print(f\"Alpha: {result['alpha']}, Validation Accuracy: {result['val_accuracy']}\")\n"
      ]
    },
    {
      "cell_type": "markdown",
      "metadata": {
        "id": "QceIntLPQHZR"
      },
      "source": [
        "Results:\n",
        "Alpha: 0.1, Validation Accuracy: 0.8777243494987488\n",
        "Alpha: 0.15, Validation Accuracy: 0.8743589520454407\n",
        "Alpha: 0.2, Validation Accuracy: 0.8736377954483032\n",
        "\n",
        "Compared with previous best structure accuracy 0.873317301273346, alpha=0.1 improves the accuracy by 0.004, alpha=0.15 improves the accuracy by 0.001, alpha=0.2 improves the accuracy by 0.0003.\n",
        "\n",
        "It turns out that alpha smoothing does work."
      ]
    },
    {
      "cell_type": "code",
      "execution_count": null,
      "metadata": {
        "id": "YoHaD4NuQHZR"
      },
      "outputs": [],
      "source": []
    }
  ],
  "metadata": {
    "kernelspec": {
      "display_name": "Python 3 (ipykernel)",
      "language": "python",
      "name": "python3"
    },
    "language_info": {
      "codemirror_mode": {
        "name": "ipython",
        "version": 3
      },
      "file_extension": ".py",
      "mimetype": "text/x-python",
      "name": "python",
      "nbconvert_exporter": "python",
      "pygments_lexer": "ipython3",
      "version": "3.9.17"
    },
    "colab": {
      "provenance": []
    }
  },
  "nbformat": 4,
  "nbformat_minor": 0
}